{
  "nbformat": 4,
  "nbformat_minor": 0,
  "metadata": {
    "colab": {
      "provenance": [],
      "authorship_tag": "ABX9TyOo+Kn+/SVlAYP3qIAaLN7L",
      "include_colab_link": true
    },
    "kernelspec": {
      "name": "python3",
      "display_name": "Python 3"
    },
    "language_info": {
      "name": "python"
    }
  },
  "cells": [
    {
      "cell_type": "markdown",
      "metadata": {
        "id": "view-in-github",
        "colab_type": "text"
      },
      "source": [
        "<a href=\"https://colab.research.google.com/github/alexseimakar/alexseimakar/blob/main/%D0%9C%D0%B0%D0%BA%D0%B0%D1%80%D0%BE%D0%B2_%D0%90%D0%BB%D0%B5%D0%BA%D1%81%D0%B5%D0%B9_%D0%A1%D0%B5%D0%BC%D0%B8%D0%BD%D0%B0%D1%801.ipynb\" target=\"_parent\"><img src=\"https://colab.research.google.com/assets/colab-badge.svg\" alt=\"Open In Colab\"/></a>"
      ]
    },
    {
      "cell_type": "code",
      "execution_count": null,
      "metadata": {
        "id": "9NjhHeNjzrBD"
      },
      "outputs": [],
      "source": []
    },
    {
      "cell_type": "markdown",
      "source": [
        "## **Семинар** 1"
      ],
      "metadata": {
        "id": "hjwfA8dTzttf"
      }
    },
    {
      "cell_type": "markdown",
      "source": [
        "pandas\n",
        "\n",
        "123456\n",
        "\n",
        "\n",
        "---\n",
        "\n",
        "\n",
        "numpy\n",
        "\n",
        "1234567\n",
        "\n",
        "\n",
        "---\n",
        "\n",
        "\n",
        "matplotlib\n",
        "\n",
        "1234"
      ],
      "metadata": {
        "id": "jU5mX-3v10CW"
      }
    },
    {
      "cell_type": "code",
      "source": [
        "import pandas as pd\n",
        "import numpy as np\n",
        "import matplotlib.pyplot as plt\n",
        "\n",
        "%matplotlib inline"
      ],
      "metadata": {
        "id": "fLanUsR42471"
      },
      "execution_count": 1,
      "outputs": []
    },
    {
      "cell_type": "markdown",
      "source": [
        "# pandas"
      ],
      "metadata": {
        "id": "OeDf3vk1zuFW"
      }
    },
    {
      "cell_type": "markdown",
      "source": [
        "1. Получите таблицу со студентами с четными номерами."
      ],
      "metadata": {
        "id": "Osf1BCzX2Lpf"
      }
    },
    {
      "cell_type": "code",
      "source": [],
      "metadata": {
        "id": "ldL0KV9d2MT1"
      },
      "execution_count": null,
      "outputs": []
    },
    {
      "cell_type": "markdown",
      "source": [
        "2. Получите таблицу со студентами, имеющими четное число пропусков."
      ],
      "metadata": {
        "id": "21CyvEwg2MtY"
      }
    },
    {
      "cell_type": "code",
      "source": [],
      "metadata": {
        "id": "e2sioIuI2M44"
      },
      "execution_count": null,
      "outputs": []
    },
    {
      "cell_type": "markdown",
      "source": [
        "3. Верно ли, что студенты, имеющие больше 10 пропусков, учатся хуже, чем остальные?"
      ],
      "metadata": {
        "id": "uusgIHya2NMH"
      }
    },
    {
      "cell_type": "code",
      "source": [],
      "metadata": {
        "id": "_rc3bMbE2NTt"
      },
      "execution_count": null,
      "outputs": []
    },
    {
      "cell_type": "markdown",
      "source": [
        "4. Как вы думаете, какие еще признаки могут повлиять на итоговую оценку? Найдите закономерности, аналогичные рассмотренным."
      ],
      "metadata": {
        "id": "i4Tojxae2NkW"
      }
    },
    {
      "cell_type": "code",
      "source": [],
      "metadata": {
        "id": "5TWzZR422NsO"
      },
      "execution_count": null,
      "outputs": []
    },
    {
      "cell_type": "markdown",
      "source": [
        "5. Как вы думаете, если при школе откроется общежитие, насколько актуально это будет для студентов математического класса?"
      ],
      "metadata": {
        "id": "hr_p-GxA2N8n"
      }
    },
    {
      "cell_type": "code",
      "source": [],
      "metadata": {
        "id": "95F494p92ODC"
      },
      "execution_count": null,
      "outputs": []
    },
    {
      "cell_type": "markdown",
      "source": [
        "6. Найдите в данных закономерности с помощью группировки."
      ],
      "metadata": {
        "id": "kyUvgbN_2QFO"
      }
    },
    {
      "cell_type": "code",
      "source": [],
      "metadata": {
        "id": "JFXCd4VB2QOm"
      },
      "execution_count": null,
      "outputs": []
    },
    {
      "cell_type": "markdown",
      "source": [
        "# numpy"
      ],
      "metadata": {
        "id": "r0wCD8o4z5sG"
      }
    },
    {
      "cell_type": "markdown",
      "source": [
        "1. Развернуть одномерный массив (сделать так, чтобы его элементы шли в обратном порядке).\n",
        "2. Найти максимальный нечетный элемент в массиве.\n",
        "3. Замените все нечетные элементы массива на ваше любимое число.\n",
        "4. Создайте массив первых n нечетных чисел, записанных в порядке убывания. Например, если `n=5`, то ответом будет `array([9, 7, 5, 3, 1])`. *Функции, которые могут пригодиться при решении: `.arange()`*\n",
        "5. Вычислите самое близкое и самое дальнее числа к данному в рассматриваемом массиве чисел. Например, если на вход поступают массив `array([0, 1, 2, 3, 4])` и число 1.33, то ответом будет `(1, 4)`. _Функции, которые могут пригодиться при решении: `.abs()`, `.argmax()`, `.argmin()`_\n",
        "6. Вычисляющую первообразную заданного полинома (в качестве константы возьмите ваше любимое число). Например, если на вход поступает массив коэффициентов `array([4, 6, 0, 1])`, что соответствует полиному $4x^3 + 6x^2 + 1$, на выходе получается массив коэффициентов `array([1, 2, 0, 1, -2])`, соответствующий полиному $x^4 + 2x^3 + x - 2$. _Функции, которые могут пригодиться при решении: `.append()`_\n",
        "7. Пользуясь пунктом 6, посчитайте первую производную для заданного полинома в заданной точке."
      ],
      "metadata": {
        "id": "N31IdBjt1Hg2"
      }
    },
    {
      "cell_type": "markdown",
      "source": [
        "1. Развернуть одномерный массив (сделать так, чтобы его элементы шли в обратном порядке)."
      ],
      "metadata": {
        "id": "BP5Hv6Wn3WeS"
      }
    },
    {
      "cell_type": "code",
      "source": [],
      "metadata": {
        "id": "IMwoHzFK3W3C"
      },
      "execution_count": null,
      "outputs": []
    },
    {
      "cell_type": "markdown",
      "source": [
        "2. Найти максимальный нечетный элемент в массиве."
      ],
      "metadata": {
        "id": "TtXOMarE3XHv"
      }
    },
    {
      "cell_type": "code",
      "source": [],
      "metadata": {
        "id": "POhgAvg23XOI"
      },
      "execution_count": null,
      "outputs": []
    },
    {
      "cell_type": "markdown",
      "source": [
        "3. Замените все нечетные элементы массива на ваше любимое число."
      ],
      "metadata": {
        "id": "SXYz8owB3XgP"
      }
    },
    {
      "cell_type": "code",
      "source": [],
      "metadata": {
        "id": "KiFYM8d93XmI"
      },
      "execution_count": null,
      "outputs": []
    },
    {
      "cell_type": "markdown",
      "source": [
        "4. Создайте массив первых n нечетных чисел, записанных в порядке убывания. Например, если `n=5`, то ответом будет `array([9, 7, 5, 3, 1])`. *Функции, которые могут пригодиться при решении: `.arange()`*"
      ],
      "metadata": {
        "id": "-ujT8HYc3Xuu"
      }
    },
    {
      "cell_type": "code",
      "source": [],
      "metadata": {
        "id": "QZUqq1-U3X02"
      },
      "execution_count": null,
      "outputs": []
    },
    {
      "cell_type": "markdown",
      "source": [
        "5. Вычислите самое близкое и самое дальнее числа к данному в рассматриваемом массиве чисел. Например, если на вход поступают массив `array([0, 1, 2, 3, 4])` и число 1.33, то ответом будет `(1, 4)`. _Функции, которые могут пригодиться при решении: `.abs()`, `.argmax()`, `.argmin()`_"
      ],
      "metadata": {
        "id": "5mVQtk8h3X9C"
      }
    },
    {
      "cell_type": "code",
      "source": [],
      "metadata": {
        "id": "W67TTc5y3YEB"
      },
      "execution_count": null,
      "outputs": []
    },
    {
      "cell_type": "markdown",
      "source": [
        "6. Вычисляющую первообразную заданного полинома (в качестве константы возьмите ваше любимое число). Например, если на вход поступает массив коэффициентов `array([4, 6, 0, 1])`, что соответствует полиному $4x^3 + 6x^2 + 1$, на выходе получается массив коэффициентов `array([1, 2, 0, 1, -2])`, соответствующий полиному $x^4 + 2x^3 + x - 2$. _Функции, которые могут пригодиться при решении: `.append()`_"
      ],
      "metadata": {
        "id": "57QU5g-Z3YLm"
      }
    },
    {
      "cell_type": "code",
      "source": [],
      "metadata": {
        "id": "t4C-5ppd3YS4"
      },
      "execution_count": null,
      "outputs": []
    },
    {
      "cell_type": "markdown",
      "source": [
        "7. Пользуясь пунктом 6, посчитайте первую производную для заданного полинома в заданной точке."
      ],
      "metadata": {
        "id": "BkciyjWG3YaZ"
      }
    },
    {
      "cell_type": "code",
      "source": [],
      "metadata": {
        "id": "5t7St4Am3YhP"
      },
      "execution_count": null,
      "outputs": []
    },
    {
      "cell_type": "markdown",
      "source": [
        "# matplotlib"
      ],
      "metadata": {
        "id": "0ILpnWcDz8Wu"
      }
    },
    {
      "cell_type": "markdown",
      "source": [],
      "metadata": {
        "id": "5fBn9DJb0EtI"
      }
    }
  ]
}