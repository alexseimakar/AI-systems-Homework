{
  "cells": [
    {
      "cell_type": "markdown",
      "metadata": {
        "id": "view-in-github",
        "colab_type": "text"
      },
      "source": [
        "<a href=\"https://colab.research.google.com/github/alexseimakar/AI-systems-Homework/blob/main/%D0%9C%D0%B0%D0%BA%D0%B0%D1%80%D0%BE%D0%B2_%D0%90%D0%BB%D0%B5%D0%BA%D1%81%D0%B5%D0%B9_hw03.ipynb\" target=\"_parent\"><img src=\"https://colab.research.google.com/assets/colab-badge.svg\" alt=\"Open In Colab\"/></a>"
      ]
    },
    {
      "cell_type": "markdown",
      "metadata": {
        "id": "hzPUgAAv2XAI"
      },
      "source": [
        "# Домашнее задание №3\n",
        "\n",
        "Задание выполнил(а): _(впишите свои фамилию и имя)_\n",
        "\n",
        "### Общая информация\n",
        "\n",
        "__Дата выдачи:__ 25.11.2024\n",
        "\n",
        "__Дедлайн:__ 07.12.2024 23:59\n",
        "\n",
        "### О задании\n",
        "\n",
        "Часть 1 содержит теоретические задачи на линейные методы классификации и метрики качества классификации.\n",
        "\n",
        "Часть 2 содержит практические задания на применение линейных методов классификации, подсчет метрик качества классификации и анализ результатов.\n",
        "\n",
        "Обратите внимание, что вам не только нужно написать код, но и в некоторых местах ответить на вопросы.\n",
        "\n",
        "### Оценивание и штрафы\n",
        "\n",
        "Каждое задание оценивается одним баллом.\n",
        "\n",
        "Оценка за ДЗ вычисляется по следующей формуле:\n",
        "\n",
        "$$\n",
        "\\text{points} \\times 10 / 16.8,\n",
        "$$\n",
        "\n",
        "где points — количество баллов, которое вы набрали. Всего в данном домашнем задании можно набрать 21 балл. Итого, максимальная оценка за данное домашнее задание - $21 \\times 10 / 16.8 = 12.5$.\n",
        "\n",
        "За сдачу задания позже срока на итоговую оценку за задание накладывается штраф в размере 0.25 балла в день, но получить отрицательную оценку нельзя.\n",
        "\n",
        "__Внимание!__ Домашнее задание выполняется самостоятельно. «Похожие» решения считаются плагиатом и все задействованные студенты (в том числе те, у кого списали) не могут получить за него больше 0 баллов.\n"
      ]
    },
    {
      "cell_type": "markdown",
      "metadata": {
        "id": "JoOVHM3y2XAM"
      },
      "source": [
        "# Часть 1 (10 баллов)"
      ]
    },
    {
      "cell_type": "markdown",
      "metadata": {
        "id": "819ta6yO2XAO"
      },
      "source": [
        "## 1"
      ]
    },
    {
      "cell_type": "markdown",
      "source": [
        "Какой из представленных графиков соответствует графику функции потерь в логистической регрессии? Тот же вопрос про метод опорных векторов."
      ],
      "metadata": {
        "id": "DjRUzFZGo6MR"
      }
    },
    {
      "cell_type": "markdown",
      "metadata": {
        "id": "5prlHdiP2XAP"
      },
      "source": [
        "**Ответ:**\n",
        "- Логистическая регрессия: график № 1\n",
        "- Метод опорных векторов: график № 3"
      ]
    },
    {
      "cell_type": "markdown",
      "metadata": {
        "id": "N3kMM-9O2XAP"
      },
      "source": [
        "## 2"
      ]
    },
    {
      "cell_type": "markdown",
      "metadata": {
        "id": "M5zDarnV2XAP"
      },
      "source": [
        "При решении задачи бинарной классификации алгоритм на отложенной выборке верно предсказывает 100 из 400 объектов класса 0 и 75 из 100 объектов класса 1. Найдите долю правильных ответов данного классификатора."
      ]
    },
    {
      "cell_type": "markdown",
      "metadata": {
        "id": "wR3Qq5wH2XAP"
      },
      "source": [
        "**Ответ:** 0,35"
      ]
    },
    {
      "cell_type": "markdown",
      "metadata": {
        "id": "mb4Lwz6c2XAP"
      },
      "source": [
        "## 3"
      ]
    },
    {
      "cell_type": "markdown",
      "metadata": {
        "id": "niOtNmoN2XAQ"
      },
      "source": [
        "Точность алгоритма классификации равна 0.6, а полнота равна 0.9. Чему в таком случае равно значение F-меры?"
      ]
    },
    {
      "cell_type": "markdown",
      "metadata": {
        "id": "0mwkMM9o2XAQ"
      },
      "source": [
        "**Ответ:** 0,72"
      ]
    },
    {
      "cell_type": "markdown",
      "metadata": {
        "id": "lmj24Our2XAQ"
      },
      "source": [
        "## 4"
      ]
    },
    {
      "cell_type": "markdown",
      "metadata": {
        "id": "DEop6iN42XAQ"
      },
      "source": [
        "При решении задачи бинарной классификации использовались данные с двумя признаками. На данных была обучена логистическая регрессия. Известно, что после обучения вектор весов $(w_0, w_1, w_2) = (0.2, 0.7, 0.1)$ (вес $w_0$ соответствует единичному признаку). Для объекта $x$ с признаковым описанием $(3, 5)$ посчитайте модуль отступа.\n",
        "\n",
        "_Не перепутайте с отступом классификатора - шириной разделяющей гиперплоскости. Это термин, более применимый к SVM. А отступ объекта (то, что требуется тут) - это немного другое, он показывает, ошибается ли классификатор на данном объекте и насколько._"
      ]
    },
    {
      "cell_type": "markdown",
      "metadata": {
        "id": "22JCS0fP2XAQ"
      },
      "source": [
        "**Ответ:** 2,8"
      ]
    },
    {
      "cell_type": "markdown",
      "metadata": {
        "id": "gWciTOYc2XAR"
      },
      "source": [
        "## 5"
      ]
    },
    {
      "cell_type": "markdown",
      "metadata": {
        "id": "0d5unP922XAR"
      },
      "source": [
        "При решении задачи бинарной классификации использовались данные с двумя признаками. На данных была обучена логистическая регрессия. Известно, что после обучения вектор весов $(w_0, w_1, w_2) = (0.2, 0.7, 0.1)$ (вес $w_0$ соответствует единичному признаку). Для объекта $x$ с признаковым описанием $(3, 5)$ вычислите предсказание вероятности принадлежности классу 1. Ответ округлите до двух знаков после запятой."
      ]
    },
    {
      "cell_type": "markdown",
      "metadata": {
        "id": "Q0WE0JpO2XAR"
      },
      "source": [
        "**Ответ:** 0,94"
      ]
    },
    {
      "cell_type": "markdown",
      "metadata": {
        "id": "2rm4QsgQ2XAR"
      },
      "source": [
        "## 6"
      ]
    },
    {
      "cell_type": "markdown",
      "metadata": {
        "id": "wDy6Xl9X2XAR"
      },
      "source": [
        "Какой из представленных графиков соответствует обученной логистической регрессии, для которой не настраивался свободный коэффициент - то есть $w_0 = 0$ (в `sklearn` это гиперпараметр `fit_intercept = False`)?\n",
        "\n",
        "![logregs.png](attachment:logregs.png)"
      ]
    },
    {
      "cell_type": "markdown",
      "metadata": {
        "id": "sGqKBooM2XAS"
      },
      "source": [
        "**Ответ:** график № 2"
      ]
    },
    {
      "cell_type": "markdown",
      "metadata": {
        "id": "0Ubw6DXU2XAS"
      },
      "source": [
        "## 7"
      ]
    },
    {
      "cell_type": "markdown",
      "metadata": {
        "id": "_bmdctrc2XAS"
      },
      "source": [
        "В задаче имеется 100 объектов. У каждого объекта 20 признаков. Сколько параметров (весов) будет настроено логистической регрессией в процессе обучения, учитывая свободный коэффициент?"
      ]
    },
    {
      "cell_type": "markdown",
      "metadata": {
        "id": "Tbu0VEws2XAS"
      },
      "source": [
        "**Ответ:** 21"
      ]
    },
    {
      "cell_type": "markdown",
      "metadata": {
        "id": "rdFR-0P42XAS"
      },
      "source": [
        "## 8"
      ]
    },
    {
      "cell_type": "markdown",
      "metadata": {
        "id": "Tr_WpWfC2XAS"
      },
      "source": [
        "Вы решаете задачу бинарной линейной классификации в трехмерном признаковом пространстве. Соответственно, решающее правило имеет вид:\n",
        "\n",
        "$$\n",
        "a(x) = \\text{sign}(w_0 + w_1x_1 + w_2x_2 + w_3x_3)\n",
        "$$\n",
        "\n",
        "У вас есть следующая выборка:\n",
        "\n",
        "| $x_1$ | $x_2$ | $x_3$ | $y$ |\n",
        "|------|------|------|------|\n",
        "| 0.2 | 0.4 | 0 | +1|\n",
        "| 0.5 | 0.9 | 0 | +1|\n",
        "| 0.3 | 0.3 | 0 | +1|\n",
        "| 0.1 | 0.8 | 1 | -1|\n",
        "| 0.5 | 0.7 | 1 | -1|\n",
        "| 0.9 | 0.9 | 1 | -1|\n",
        "| 0.1 | 0.3 | 1 | -1|\n",
        "\n",
        "а) Сколько существует наборов коэффициентов $w = (w_0, w_1, w_2, w_3)$, при которых задача будет решена идеально (с accuracy = 1)?\n",
        "\n",
        "б) Если ответ в п. а) - 0, пропустите это задание. Если ответ в п. а) - 1 или 2, запишите этот набор коэффициентов (или два набора соответственно). Иначе приведите хотя бы три таких набора коэффициентов."
      ]
    },
    {
      "cell_type": "markdown",
      "metadata": {
        "id": "X2ytjhMJ2XAS"
      },
      "source": [
        "**Ответ:**\n",
        "\n",
        "а) Существует бесконечно много наборов коэффициентов, так как можно варьировать значения w0,w1,w2,w3​ в зависимости от условий\n",
        "\n",
        "б) w0=1 w1=1 w2=1 w3=-3"
      ]
    },
    {
      "cell_type": "markdown",
      "metadata": {
        "id": "XfsAU9h52XAS"
      },
      "source": [
        "## 9"
      ]
    },
    {
      "cell_type": "markdown",
      "metadata": {
        "id": "lBk_TpYX2XAT"
      },
      "source": [
        "Петя на работе построил алгоритм бинарной классификации $a(x)$, AUC-ROC которого равен 0.96. После этого Петя пошел обедать, а его коллега Вася, решив пошутить над Петей, сел за его компьютер и изменил код алгоритма так, чтобы вместо положительного класса алгоритм всегда предсказывал отрицательный, и наоборот – вместо отрицательного положительный. Какое значение AUC-ROC алгоритма обнаружил Вася, вернувшись с обеда?"
      ]
    },
    {
      "cell_type": "markdown",
      "metadata": {
        "id": "j5uOZUYy2XAT"
      },
      "source": [
        "**Ответ:** 0,04"
      ]
    },
    {
      "cell_type": "markdown",
      "metadata": {
        "id": "fJtCzxiL2XAT"
      },
      "source": [
        "## 10"
      ]
    },
    {
      "cell_type": "markdown",
      "metadata": {
        "id": "WKbmPqfL2XAT"
      },
      "source": [
        "Александр построил алгоритм бинарной классификации $a(x)$, AUC-ROC которого равен 0.66. Михаил построил алгоритм $b(x) = \\frac{a(x)}{3}$. То есть для каждого объекта алгоритм $b(x)$ выдает вероятность, которая в три раза меньше, чем вероятность, выданная алгоритмом $a(x)$. Чему равно значение AUC-ROC алгоритма $b(x)$?"
      ]
    },
    {
      "cell_type": "markdown",
      "metadata": {
        "id": "aQLer__Y2XAT"
      },
      "source": [
        "**Ответ:** 0,66"
      ]
    },
    {
      "cell_type": "markdown",
      "metadata": {
        "id": "zBMsOm4v2XAT"
      },
      "source": [
        "# Часть 2 (11 баллов)"
      ]
    },
    {
      "cell_type": "markdown",
      "metadata": {
        "id": "QS_E_B-y2XAU"
      },
      "source": [
        "![meme2.jpg](attachment:meme2.jpg)"
      ]
    },
    {
      "cell_type": "code",
      "execution_count": 1,
      "metadata": {
        "id": "WbKz1CeA2XAU"
      },
      "outputs": [],
      "source": [
        "import numpy as np\n",
        "import pandas as pd"
      ]
    },
    {
      "cell_type": "code",
      "execution_count": 2,
      "metadata": {
        "id": "wQgmmteS2XAU",
        "colab": {
          "base_uri": "https://localhost:8080/"
        },
        "outputId": "1a0abaf5-2378-4f40-bc1d-b3b16d29d5cd"
      },
      "outputs": [
        {
          "output_type": "stream",
          "name": "stdout",
          "text": [
            "Collecting scikit-learn==0.23.2\n",
            "  Downloading scikit-learn-0.23.2.tar.gz (7.2 MB)\n",
            "\u001b[2K     \u001b[90m━━━━━━━━━━━━━━━━━━━━━━━━━━━━━━━━━━━━━━━━\u001b[0m \u001b[32m7.2/7.2 MB\u001b[0m \u001b[31m42.3 MB/s\u001b[0m eta \u001b[36m0:00:00\u001b[0m\n",
            "\u001b[?25h  \u001b[1;31merror\u001b[0m: \u001b[1msubprocess-exited-with-error\u001b[0m\n",
            "  \n",
            "  \u001b[31m×\u001b[0m \u001b[32mpip subprocess to install build dependencies\u001b[0m did not run successfully.\n",
            "  \u001b[31m│\u001b[0m exit code: \u001b[1;36m1\u001b[0m\n",
            "  \u001b[31m╰─>\u001b[0m See above for output.\n",
            "  \n",
            "  \u001b[1;35mnote\u001b[0m: This error originates from a subprocess, and is likely not a problem with pip.\n",
            "  Installing build dependencies ... \u001b[?25l\u001b[?25herror\n",
            "\u001b[1;31merror\u001b[0m: \u001b[1msubprocess-exited-with-error\u001b[0m\n",
            "\n",
            "\u001b[31m×\u001b[0m \u001b[32mpip subprocess to install build dependencies\u001b[0m did not run successfully.\n",
            "\u001b[31m│\u001b[0m exit code: \u001b[1;36m1\u001b[0m\n",
            "\u001b[31m╰─>\u001b[0m See above for output.\n",
            "\n",
            "\u001b[1;35mnote\u001b[0m: This error originates from a subprocess, and is likely not a problem with pip.\n"
          ]
        }
      ],
      "source": [
        "# устанавливаем актуальную версию sklearn\n",
        "!pip install scikit-learn==0.23.2 --user"
      ]
    },
    {
      "cell_type": "markdown",
      "metadata": {
        "id": "_slOdgzq2XAU"
      },
      "source": [
        "В этом задании вы будете работать с [данными о пациентах, у части которых есть заболевание сердца](https://www.kaggle.com/ronitf/heart-disease-uci). Вам нужно построить модель, классифицирующую пациентов на больных этим заболеванием и тех, у кого его нет, а также проанализировать результаты."
      ]
    },
    {
      "cell_type": "code",
      "execution_count": 3,
      "metadata": {
        "id": "XnCbVM9a2XAU",
        "colab": {
          "base_uri": "https://localhost:8080/",
          "height": 206
        },
        "outputId": "797ccda9-d5f1-4b2d-f9b2-288d8784c3eb"
      },
      "outputs": [
        {
          "output_type": "execute_result",
          "data": {
            "text/plain": [
              "   age  sex  cp  trestbps  chol  fbs  restecg  thalach  exang  oldpeak  slope  \\\n",
              "0   63    1   3       145   233    1        0      150      0      2.3      0   \n",
              "1   37    1   2       130   250    0        1      187      0      3.5      0   \n",
              "2   41    0   1       130   204    0        0      172      0      1.4      2   \n",
              "3   56    1   1       120   236    0        1      178      0      0.8      2   \n",
              "4   57    0   0       120   354    0        1      163      1      0.6      2   \n",
              "\n",
              "   ca  thal  target  \n",
              "0   0     1       1  \n",
              "1   0     2       1  \n",
              "2   0     2       1  \n",
              "3   0     2       1  \n",
              "4   0     2       1  "
            ],
            "text/html": [
              "\n",
              "  <div id=\"df-fd059657-e943-44cd-b4f6-c2f8043ecff1\" class=\"colab-df-container\">\n",
              "    <div>\n",
              "<style scoped>\n",
              "    .dataframe tbody tr th:only-of-type {\n",
              "        vertical-align: middle;\n",
              "    }\n",
              "\n",
              "    .dataframe tbody tr th {\n",
              "        vertical-align: top;\n",
              "    }\n",
              "\n",
              "    .dataframe thead th {\n",
              "        text-align: right;\n",
              "    }\n",
              "</style>\n",
              "<table border=\"1\" class=\"dataframe\">\n",
              "  <thead>\n",
              "    <tr style=\"text-align: right;\">\n",
              "      <th></th>\n",
              "      <th>age</th>\n",
              "      <th>sex</th>\n",
              "      <th>cp</th>\n",
              "      <th>trestbps</th>\n",
              "      <th>chol</th>\n",
              "      <th>fbs</th>\n",
              "      <th>restecg</th>\n",
              "      <th>thalach</th>\n",
              "      <th>exang</th>\n",
              "      <th>oldpeak</th>\n",
              "      <th>slope</th>\n",
              "      <th>ca</th>\n",
              "      <th>thal</th>\n",
              "      <th>target</th>\n",
              "    </tr>\n",
              "  </thead>\n",
              "  <tbody>\n",
              "    <tr>\n",
              "      <th>0</th>\n",
              "      <td>63</td>\n",
              "      <td>1</td>\n",
              "      <td>3</td>\n",
              "      <td>145</td>\n",
              "      <td>233</td>\n",
              "      <td>1</td>\n",
              "      <td>0</td>\n",
              "      <td>150</td>\n",
              "      <td>0</td>\n",
              "      <td>2.3</td>\n",
              "      <td>0</td>\n",
              "      <td>0</td>\n",
              "      <td>1</td>\n",
              "      <td>1</td>\n",
              "    </tr>\n",
              "    <tr>\n",
              "      <th>1</th>\n",
              "      <td>37</td>\n",
              "      <td>1</td>\n",
              "      <td>2</td>\n",
              "      <td>130</td>\n",
              "      <td>250</td>\n",
              "      <td>0</td>\n",
              "      <td>1</td>\n",
              "      <td>187</td>\n",
              "      <td>0</td>\n",
              "      <td>3.5</td>\n",
              "      <td>0</td>\n",
              "      <td>0</td>\n",
              "      <td>2</td>\n",
              "      <td>1</td>\n",
              "    </tr>\n",
              "    <tr>\n",
              "      <th>2</th>\n",
              "      <td>41</td>\n",
              "      <td>0</td>\n",
              "      <td>1</td>\n",
              "      <td>130</td>\n",
              "      <td>204</td>\n",
              "      <td>0</td>\n",
              "      <td>0</td>\n",
              "      <td>172</td>\n",
              "      <td>0</td>\n",
              "      <td>1.4</td>\n",
              "      <td>2</td>\n",
              "      <td>0</td>\n",
              "      <td>2</td>\n",
              "      <td>1</td>\n",
              "    </tr>\n",
              "    <tr>\n",
              "      <th>3</th>\n",
              "      <td>56</td>\n",
              "      <td>1</td>\n",
              "      <td>1</td>\n",
              "      <td>120</td>\n",
              "      <td>236</td>\n",
              "      <td>0</td>\n",
              "      <td>1</td>\n",
              "      <td>178</td>\n",
              "      <td>0</td>\n",
              "      <td>0.8</td>\n",
              "      <td>2</td>\n",
              "      <td>0</td>\n",
              "      <td>2</td>\n",
              "      <td>1</td>\n",
              "    </tr>\n",
              "    <tr>\n",
              "      <th>4</th>\n",
              "      <td>57</td>\n",
              "      <td>0</td>\n",
              "      <td>0</td>\n",
              "      <td>120</td>\n",
              "      <td>354</td>\n",
              "      <td>0</td>\n",
              "      <td>1</td>\n",
              "      <td>163</td>\n",
              "      <td>1</td>\n",
              "      <td>0.6</td>\n",
              "      <td>2</td>\n",
              "      <td>0</td>\n",
              "      <td>2</td>\n",
              "      <td>1</td>\n",
              "    </tr>\n",
              "  </tbody>\n",
              "</table>\n",
              "</div>\n",
              "    <div class=\"colab-df-buttons\">\n",
              "\n",
              "  <div class=\"colab-df-container\">\n",
              "    <button class=\"colab-df-convert\" onclick=\"convertToInteractive('df-fd059657-e943-44cd-b4f6-c2f8043ecff1')\"\n",
              "            title=\"Convert this dataframe to an interactive table.\"\n",
              "            style=\"display:none;\">\n",
              "\n",
              "  <svg xmlns=\"http://www.w3.org/2000/svg\" height=\"24px\" viewBox=\"0 -960 960 960\">\n",
              "    <path d=\"M120-120v-720h720v720H120Zm60-500h600v-160H180v160Zm220 220h160v-160H400v160Zm0 220h160v-160H400v160ZM180-400h160v-160H180v160Zm440 0h160v-160H620v160ZM180-180h160v-160H180v160Zm440 0h160v-160H620v160Z\"/>\n",
              "  </svg>\n",
              "    </button>\n",
              "\n",
              "  <style>\n",
              "    .colab-df-container {\n",
              "      display:flex;\n",
              "      gap: 12px;\n",
              "    }\n",
              "\n",
              "    .colab-df-convert {\n",
              "      background-color: #E8F0FE;\n",
              "      border: none;\n",
              "      border-radius: 50%;\n",
              "      cursor: pointer;\n",
              "      display: none;\n",
              "      fill: #1967D2;\n",
              "      height: 32px;\n",
              "      padding: 0 0 0 0;\n",
              "      width: 32px;\n",
              "    }\n",
              "\n",
              "    .colab-df-convert:hover {\n",
              "      background-color: #E2EBFA;\n",
              "      box-shadow: 0px 1px 2px rgba(60, 64, 67, 0.3), 0px 1px 3px 1px rgba(60, 64, 67, 0.15);\n",
              "      fill: #174EA6;\n",
              "    }\n",
              "\n",
              "    .colab-df-buttons div {\n",
              "      margin-bottom: 4px;\n",
              "    }\n",
              "\n",
              "    [theme=dark] .colab-df-convert {\n",
              "      background-color: #3B4455;\n",
              "      fill: #D2E3FC;\n",
              "    }\n",
              "\n",
              "    [theme=dark] .colab-df-convert:hover {\n",
              "      background-color: #434B5C;\n",
              "      box-shadow: 0px 1px 3px 1px rgba(0, 0, 0, 0.15);\n",
              "      filter: drop-shadow(0px 1px 2px rgba(0, 0, 0, 0.3));\n",
              "      fill: #FFFFFF;\n",
              "    }\n",
              "  </style>\n",
              "\n",
              "    <script>\n",
              "      const buttonEl =\n",
              "        document.querySelector('#df-fd059657-e943-44cd-b4f6-c2f8043ecff1 button.colab-df-convert');\n",
              "      buttonEl.style.display =\n",
              "        google.colab.kernel.accessAllowed ? 'block' : 'none';\n",
              "\n",
              "      async function convertToInteractive(key) {\n",
              "        const element = document.querySelector('#df-fd059657-e943-44cd-b4f6-c2f8043ecff1');\n",
              "        const dataTable =\n",
              "          await google.colab.kernel.invokeFunction('convertToInteractive',\n",
              "                                                    [key], {});\n",
              "        if (!dataTable) return;\n",
              "\n",
              "        const docLinkHtml = 'Like what you see? Visit the ' +\n",
              "          '<a target=\"_blank\" href=https://colab.research.google.com/notebooks/data_table.ipynb>data table notebook</a>'\n",
              "          + ' to learn more about interactive tables.';\n",
              "        element.innerHTML = '';\n",
              "        dataTable['output_type'] = 'display_data';\n",
              "        await google.colab.output.renderOutput(dataTable, element);\n",
              "        const docLink = document.createElement('div');\n",
              "        docLink.innerHTML = docLinkHtml;\n",
              "        element.appendChild(docLink);\n",
              "      }\n",
              "    </script>\n",
              "  </div>\n",
              "\n",
              "\n",
              "<div id=\"df-ca7c9dcd-24f5-4ff5-a5c2-75a8be204bd0\">\n",
              "  <button class=\"colab-df-quickchart\" onclick=\"quickchart('df-ca7c9dcd-24f5-4ff5-a5c2-75a8be204bd0')\"\n",
              "            title=\"Suggest charts\"\n",
              "            style=\"display:none;\">\n",
              "\n",
              "<svg xmlns=\"http://www.w3.org/2000/svg\" height=\"24px\"viewBox=\"0 0 24 24\"\n",
              "     width=\"24px\">\n",
              "    <g>\n",
              "        <path d=\"M19 3H5c-1.1 0-2 .9-2 2v14c0 1.1.9 2 2 2h14c1.1 0 2-.9 2-2V5c0-1.1-.9-2-2-2zM9 17H7v-7h2v7zm4 0h-2V7h2v10zm4 0h-2v-4h2v4z\"/>\n",
              "    </g>\n",
              "</svg>\n",
              "  </button>\n",
              "\n",
              "<style>\n",
              "  .colab-df-quickchart {\n",
              "      --bg-color: #E8F0FE;\n",
              "      --fill-color: #1967D2;\n",
              "      --hover-bg-color: #E2EBFA;\n",
              "      --hover-fill-color: #174EA6;\n",
              "      --disabled-fill-color: #AAA;\n",
              "      --disabled-bg-color: #DDD;\n",
              "  }\n",
              "\n",
              "  [theme=dark] .colab-df-quickchart {\n",
              "      --bg-color: #3B4455;\n",
              "      --fill-color: #D2E3FC;\n",
              "      --hover-bg-color: #434B5C;\n",
              "      --hover-fill-color: #FFFFFF;\n",
              "      --disabled-bg-color: #3B4455;\n",
              "      --disabled-fill-color: #666;\n",
              "  }\n",
              "\n",
              "  .colab-df-quickchart {\n",
              "    background-color: var(--bg-color);\n",
              "    border: none;\n",
              "    border-radius: 50%;\n",
              "    cursor: pointer;\n",
              "    display: none;\n",
              "    fill: var(--fill-color);\n",
              "    height: 32px;\n",
              "    padding: 0;\n",
              "    width: 32px;\n",
              "  }\n",
              "\n",
              "  .colab-df-quickchart:hover {\n",
              "    background-color: var(--hover-bg-color);\n",
              "    box-shadow: 0 1px 2px rgba(60, 64, 67, 0.3), 0 1px 3px 1px rgba(60, 64, 67, 0.15);\n",
              "    fill: var(--button-hover-fill-color);\n",
              "  }\n",
              "\n",
              "  .colab-df-quickchart-complete:disabled,\n",
              "  .colab-df-quickchart-complete:disabled:hover {\n",
              "    background-color: var(--disabled-bg-color);\n",
              "    fill: var(--disabled-fill-color);\n",
              "    box-shadow: none;\n",
              "  }\n",
              "\n",
              "  .colab-df-spinner {\n",
              "    border: 2px solid var(--fill-color);\n",
              "    border-color: transparent;\n",
              "    border-bottom-color: var(--fill-color);\n",
              "    animation:\n",
              "      spin 1s steps(1) infinite;\n",
              "  }\n",
              "\n",
              "  @keyframes spin {\n",
              "    0% {\n",
              "      border-color: transparent;\n",
              "      border-bottom-color: var(--fill-color);\n",
              "      border-left-color: var(--fill-color);\n",
              "    }\n",
              "    20% {\n",
              "      border-color: transparent;\n",
              "      border-left-color: var(--fill-color);\n",
              "      border-top-color: var(--fill-color);\n",
              "    }\n",
              "    30% {\n",
              "      border-color: transparent;\n",
              "      border-left-color: var(--fill-color);\n",
              "      border-top-color: var(--fill-color);\n",
              "      border-right-color: var(--fill-color);\n",
              "    }\n",
              "    40% {\n",
              "      border-color: transparent;\n",
              "      border-right-color: var(--fill-color);\n",
              "      border-top-color: var(--fill-color);\n",
              "    }\n",
              "    60% {\n",
              "      border-color: transparent;\n",
              "      border-right-color: var(--fill-color);\n",
              "    }\n",
              "    80% {\n",
              "      border-color: transparent;\n",
              "      border-right-color: var(--fill-color);\n",
              "      border-bottom-color: var(--fill-color);\n",
              "    }\n",
              "    90% {\n",
              "      border-color: transparent;\n",
              "      border-bottom-color: var(--fill-color);\n",
              "    }\n",
              "  }\n",
              "</style>\n",
              "\n",
              "  <script>\n",
              "    async function quickchart(key) {\n",
              "      const quickchartButtonEl =\n",
              "        document.querySelector('#' + key + ' button');\n",
              "      quickchartButtonEl.disabled = true;  // To prevent multiple clicks.\n",
              "      quickchartButtonEl.classList.add('colab-df-spinner');\n",
              "      try {\n",
              "        const charts = await google.colab.kernel.invokeFunction(\n",
              "            'suggestCharts', [key], {});\n",
              "      } catch (error) {\n",
              "        console.error('Error during call to suggestCharts:', error);\n",
              "      }\n",
              "      quickchartButtonEl.classList.remove('colab-df-spinner');\n",
              "      quickchartButtonEl.classList.add('colab-df-quickchart-complete');\n",
              "    }\n",
              "    (() => {\n",
              "      let quickchartButtonEl =\n",
              "        document.querySelector('#df-ca7c9dcd-24f5-4ff5-a5c2-75a8be204bd0 button');\n",
              "      quickchartButtonEl.style.display =\n",
              "        google.colab.kernel.accessAllowed ? 'block' : 'none';\n",
              "    })();\n",
              "  </script>\n",
              "</div>\n",
              "    </div>\n",
              "  </div>\n"
            ],
            "application/vnd.google.colaboratory.intrinsic+json": {
              "type": "dataframe",
              "variable_name": "data",
              "summary": "{\n  \"name\": \"data\",\n  \"rows\": 303,\n  \"fields\": [\n    {\n      \"column\": \"age\",\n      \"properties\": {\n        \"dtype\": \"number\",\n        \"std\": 9,\n        \"min\": 29,\n        \"max\": 77,\n        \"num_unique_values\": 41,\n        \"samples\": [\n          46,\n          66,\n          48\n        ],\n        \"semantic_type\": \"\",\n        \"description\": \"\"\n      }\n    },\n    {\n      \"column\": \"sex\",\n      \"properties\": {\n        \"dtype\": \"number\",\n        \"std\": 0,\n        \"min\": 0,\n        \"max\": 1,\n        \"num_unique_values\": 2,\n        \"samples\": [\n          0,\n          1\n        ],\n        \"semantic_type\": \"\",\n        \"description\": \"\"\n      }\n    },\n    {\n      \"column\": \"cp\",\n      \"properties\": {\n        \"dtype\": \"number\",\n        \"std\": 1,\n        \"min\": 0,\n        \"max\": 3,\n        \"num_unique_values\": 4,\n        \"samples\": [\n          2,\n          0\n        ],\n        \"semantic_type\": \"\",\n        \"description\": \"\"\n      }\n    },\n    {\n      \"column\": \"trestbps\",\n      \"properties\": {\n        \"dtype\": \"number\",\n        \"std\": 17,\n        \"min\": 94,\n        \"max\": 200,\n        \"num_unique_values\": 49,\n        \"samples\": [\n          104,\n          123\n        ],\n        \"semantic_type\": \"\",\n        \"description\": \"\"\n      }\n    },\n    {\n      \"column\": \"chol\",\n      \"properties\": {\n        \"dtype\": \"number\",\n        \"std\": 51,\n        \"min\": 126,\n        \"max\": 564,\n        \"num_unique_values\": 152,\n        \"samples\": [\n          277,\n          169\n        ],\n        \"semantic_type\": \"\",\n        \"description\": \"\"\n      }\n    },\n    {\n      \"column\": \"fbs\",\n      \"properties\": {\n        \"dtype\": \"number\",\n        \"std\": 0,\n        \"min\": 0,\n        \"max\": 1,\n        \"num_unique_values\": 2,\n        \"samples\": [\n          0,\n          1\n        ],\n        \"semantic_type\": \"\",\n        \"description\": \"\"\n      }\n    },\n    {\n      \"column\": \"restecg\",\n      \"properties\": {\n        \"dtype\": \"number\",\n        \"std\": 0,\n        \"min\": 0,\n        \"max\": 2,\n        \"num_unique_values\": 3,\n        \"samples\": [\n          0,\n          1\n        ],\n        \"semantic_type\": \"\",\n        \"description\": \"\"\n      }\n    },\n    {\n      \"column\": \"thalach\",\n      \"properties\": {\n        \"dtype\": \"number\",\n        \"std\": 22,\n        \"min\": 71,\n        \"max\": 202,\n        \"num_unique_values\": 91,\n        \"samples\": [\n          159,\n          152\n        ],\n        \"semantic_type\": \"\",\n        \"description\": \"\"\n      }\n    },\n    {\n      \"column\": \"exang\",\n      \"properties\": {\n        \"dtype\": \"number\",\n        \"std\": 0,\n        \"min\": 0,\n        \"max\": 1,\n        \"num_unique_values\": 2,\n        \"samples\": [\n          1,\n          0\n        ],\n        \"semantic_type\": \"\",\n        \"description\": \"\"\n      }\n    },\n    {\n      \"column\": \"oldpeak\",\n      \"properties\": {\n        \"dtype\": \"number\",\n        \"std\": 1.1610750220686343,\n        \"min\": 0.0,\n        \"max\": 6.2,\n        \"num_unique_values\": 40,\n        \"samples\": [\n          1.9,\n          3.0\n        ],\n        \"semantic_type\": \"\",\n        \"description\": \"\"\n      }\n    },\n    {\n      \"column\": \"slope\",\n      \"properties\": {\n        \"dtype\": \"number\",\n        \"std\": 0,\n        \"min\": 0,\n        \"max\": 2,\n        \"num_unique_values\": 3,\n        \"samples\": [\n          0,\n          2\n        ],\n        \"semantic_type\": \"\",\n        \"description\": \"\"\n      }\n    },\n    {\n      \"column\": \"ca\",\n      \"properties\": {\n        \"dtype\": \"number\",\n        \"std\": 1,\n        \"min\": 0,\n        \"max\": 4,\n        \"num_unique_values\": 5,\n        \"samples\": [\n          2,\n          4\n        ],\n        \"semantic_type\": \"\",\n        \"description\": \"\"\n      }\n    },\n    {\n      \"column\": \"thal\",\n      \"properties\": {\n        \"dtype\": \"number\",\n        \"std\": 0,\n        \"min\": 0,\n        \"max\": 3,\n        \"num_unique_values\": 4,\n        \"samples\": [\n          2,\n          0\n        ],\n        \"semantic_type\": \"\",\n        \"description\": \"\"\n      }\n    },\n    {\n      \"column\": \"target\",\n      \"properties\": {\n        \"dtype\": \"number\",\n        \"std\": 0,\n        \"min\": 0,\n        \"max\": 1,\n        \"num_unique_values\": 2,\n        \"samples\": [\n          0,\n          1\n        ],\n        \"semantic_type\": \"\",\n        \"description\": \"\"\n      }\n    }\n  ]\n}"
            }
          },
          "metadata": {},
          "execution_count": 3
        }
      ],
      "source": [
        "data = pd.read_csv('heart.csv')\n",
        "data.head()"
      ]
    },
    {
      "cell_type": "markdown",
      "metadata": {
        "id": "HclnR2fa2XAZ"
      },
      "source": [
        "Пациенты описываются следующими признаками:\n",
        "\n",
        "- age\n",
        "- sex\n",
        "- chest pain type (4 values)\n",
        "- resting blood pressure\n",
        "- serum cholestoral in mg/dl\n",
        "- fasting blood sugar > 120 mg/dl\n",
        "- resting electrocardiographic results (values 0,1,2)\n",
        "- maximum heart rate achieved\n",
        "- exercise induced angina\n",
        "- oldpeak = ST depression induced by exercise relative to rest\n",
        "- the slope of the peak exercise ST segment\n",
        "- number of major vessels (0-3) colored by flourosopy\n",
        "- thal: 3 = normal; 6 = fixed defect; 7 = reversable defect\n",
        "\n",
        "Целевая переменная:\n",
        "\n",
        "- target (0 or 1)"
      ]
    },
    {
      "cell_type": "markdown",
      "metadata": {
        "id": "1cpykAL02XAZ"
      },
      "source": [
        "## 1"
      ]
    },
    {
      "cell_type": "markdown",
      "metadata": {
        "id": "Lqkbu2FH2XAZ"
      },
      "source": [
        "Какой процент пациентов из представленных в данных имеет заболевание сердца (`'target' = 1`)?"
      ]
    },
    {
      "cell_type": "code",
      "execution_count": 4,
      "metadata": {
        "id": "9wBnAJT92XAa",
        "colab": {
          "base_uri": "https://localhost:8080/"
        },
        "outputId": "a9fbb3d7-4c68-45c7-a227-8e9783842595"
      },
      "outputs": [
        {
          "output_type": "execute_result",
          "data": {
            "text/plain": [
              "54.45544554455446"
            ]
          },
          "metadata": {},
          "execution_count": 4
        }
      ],
      "source": [
        "len(data[data['target'] == 1]) / len(data) * 100"
      ]
    },
    {
      "cell_type": "markdown",
      "metadata": {
        "id": "ztePHpaL2XAa"
      },
      "source": [
        "-----\n",
        "\n",
        "Разделим данную выборку случайным образом на обучающую и тестовую части в отношении 3:1."
      ]
    },
    {
      "cell_type": "code",
      "execution_count": 7,
      "metadata": {
        "id": "coyfiF7A2XAa",
        "colab": {
          "base_uri": "https://localhost:8080/"
        },
        "outputId": "46a4882e-5ac4-4af4-add1-3056c8e48887"
      },
      "outputs": [
        {
          "output_type": "execute_result",
          "data": {
            "text/plain": [
              "((227, 13), (76, 13))"
            ]
          },
          "metadata": {},
          "execution_count": 7
        }
      ],
      "source": [
        "from sklearn.model_selection import train_test_split\n",
        "X_train, X_test, y_train, y_test = train_test_split(data.drop('target', axis=1), data['target'], test_size=0.25, random_state=13)\n",
        "X_train.shape, X_test.shape"
      ]
    },
    {
      "cell_type": "markdown",
      "metadata": {
        "id": "H_JMX8Gu2XAa"
      },
      "source": [
        "## 2"
      ]
    },
    {
      "cell_type": "markdown",
      "metadata": {
        "id": "aGh6Ii0h2XAa"
      },
      "source": [
        "Обучите логистическую регрессию из `sklearn` (`sklearn.linear_model.LogisticRegression`) со следующими гиперпараметрами:\n",
        "\n",
        "   - максимальное число итераций: `max_iter=1000`\n",
        "   - без регуляризации: `penalty='none'`\n",
        "   - сид: `random_state=13`\n",
        "   - остальные гиперпараметры оставьте равными по умолчанию\n",
        "\n",
        "Подробнее о параметрах можно почитать в [документации](https://scikit-learn.org/stable/modules/generated/sklearn.linear_model.LogisticRegression.html).\n",
        "\n",
        "Какое значение свободного коэффициента у полученной логистической регрессии? А какое получилось значение остальных весов?"
      ]
    },
    {
      "cell_type": "code",
      "execution_count": 8,
      "metadata": {
        "id": "PsHvT3t32XAb",
        "colab": {
          "base_uri": "https://localhost:8080/"
        },
        "outputId": "99f6909a-64c4-4bba-e005-b45bd407734c"
      },
      "outputs": [
        {
          "output_type": "stream",
          "name": "stderr",
          "text": [
            "/usr/local/lib/python3.10/dist-packages/sklearn/linear_model/_logistic.py:469: ConvergenceWarning: lbfgs failed to converge (status=1):\n",
            "STOP: TOTAL NO. of ITERATIONS REACHED LIMIT.\n",
            "\n",
            "Increase the number of iterations (max_iter) or scale the data as shown in:\n",
            "    https://scikit-learn.org/stable/modules/preprocessing.html\n",
            "Please also refer to the documentation for alternative solver options:\n",
            "    https://scikit-learn.org/stable/modules/linear_model.html#logistic-regression\n",
            "  n_iter_i = _check_optimize_result(\n"
          ]
        },
        {
          "output_type": "execute_result",
          "data": {
            "text/plain": [
              "(array([4.02178791]),\n",
              " array([[-0.03278359, -1.87142394,  0.7468452 , -0.0083001 , -0.00338193,\n",
              "          0.27996018,  0.50003437,  0.01749402, -1.08730588, -0.45883993,\n",
              "          0.82636629, -0.75850861, -1.01954842]]))"
            ]
          },
          "metadata": {},
          "execution_count": 8
        }
      ],
      "source": [
        "from sklearn.linear_model import LogisticRegression\n",
        "\n",
        "model_logreg = LogisticRegression(max_iter=1000, penalty=None, random_state=13).fit(X_train, y_train)\n",
        "model_logreg.intercept_,  model_logreg.coef_"
      ]
    },
    {
      "cell_type": "markdown",
      "metadata": {
        "id": "YoySlZWX2XAb"
      },
      "source": [
        "## 3"
      ]
    },
    {
      "cell_type": "markdown",
      "metadata": {
        "id": "bceLkAfa2XAb"
      },
      "source": [
        "Какое значение L2-нормы вектора весов (без учета свободного коэффициента) у полученного линейного классификатора?\n",
        "\n",
        "_Напоминание. L2-норма вектора $v = (v_1, \\ldots, v_n)$ - это корень из суммы квадратов его элементов:_\n",
        "\n",
        "$$\n",
        "\\|v\\|_2 = \\sqrt{\\sum\\limits_{i=1}^nv_i^2}\n",
        "$$"
      ]
    },
    {
      "cell_type": "code",
      "execution_count": 9,
      "metadata": {
        "id": "eB5zXlHY2XAb",
        "colab": {
          "base_uri": "https://localhost:8080/"
        },
        "outputId": "f74cd18a-96d4-4f8f-cc79-df95c47f9ccf"
      },
      "outputs": [
        {
          "output_type": "execute_result",
          "data": {
            "text/plain": [
              "2.8425942737284804"
            ]
          },
          "metadata": {},
          "execution_count": 9
        }
      ],
      "source": [
        "np.linalg.norm(model_logreg.coef_)"
      ]
    },
    {
      "cell_type": "markdown",
      "metadata": {
        "id": "HC8_JU3L2XAc"
      },
      "source": [
        "## 4"
      ]
    },
    {
      "cell_type": "markdown",
      "metadata": {
        "id": "RZXrgYOp2XAc"
      },
      "source": [
        "Найдите долю правильных ответов (accuracy) классификатора на тестовой части выборки."
      ]
    },
    {
      "cell_type": "code",
      "execution_count": 10,
      "metadata": {
        "id": "KwMqi5uK2XAe",
        "colab": {
          "base_uri": "https://localhost:8080/"
        },
        "outputId": "4686721e-d689-4b34-cbb8-7065ab233266"
      },
      "outputs": [
        {
          "output_type": "execute_result",
          "data": {
            "text/plain": [
              "0.8157894736842105"
            ]
          },
          "metadata": {},
          "execution_count": 10
        }
      ],
      "source": [
        "from sklearn.metrics import accuracy_score\n",
        "\n",
        "accuracy_score(y_test, model_logreg.predict(X_test))"
      ]
    },
    {
      "cell_type": "markdown",
      "metadata": {
        "id": "RyZd28ML2XAf"
      },
      "source": [
        "## 5"
      ]
    },
    {
      "cell_type": "markdown",
      "metadata": {
        "id": "54mDHZ2V2XAf"
      },
      "source": [
        "В задаче классификации, как и в задаче регрессии, для оптимизации линейных моделей можно применять регуляризацию. Этот метод реализован и в `sklearn.linear_model.LogisticRegression` - гиперпараметр, отвечающий за регуляризацию - это `C`, принимающее положительные значения. Класс реализован таким образом, что `C` является обратным значением к коэффициенту регуляризации - то есть чем меньше `C`, тем сильнее регуляризация, и наоборот. За тип регуляризации (нет регуляризации, L1, L2 или обе сразу) отвечает параметр `penalty`. Также для справки - есть гиперпараметр `solver`, задающий алгоритм, решающий оптимизационную проблему. Такие алгоритмы умеют работать не со всеми типами регуляризации, так что если, например, вы хотите обучить логистическую регрессию с L1-регуляризацией, но оставите гиперпараметр `solver` равным по умолчанию (`'lbfgs'`), то у вас возникнет ошибка (можете проверить).\n",
        "\n",
        "Обучите логистическую регрессию заново со следующими гиперпараметрами:\n",
        "   \n",
        "   - максимальное число итераций: `max_iter=1000`\n",
        "   - с L1-регуляризацией: `penalty='l1'`\n",
        "   - с коэффициентом `C=0.1`\n",
        "   - алгоритм оптимизации: `solver='liblinear'`\n",
        "   - сид: `random_state=13`\n",
        "   - остальные гиперпараметры оставьте равными по умолчанию\n",
        "   \n",
        "Отличается ли качество полученного классификатора от качества первого? Какая доля правильных ответов получается теперь на тестовой выборке?"
      ]
    },
    {
      "cell_type": "code",
      "execution_count": 11,
      "metadata": {
        "id": "UgRpesxv2XAf",
        "colab": {
          "base_uri": "https://localhost:8080/"
        },
        "outputId": "f1b49e2c-ba09-4c21-dd7b-a63a651a78bf"
      },
      "outputs": [
        {
          "output_type": "execute_result",
          "data": {
            "text/plain": [
              "0.8289473684210527"
            ]
          },
          "metadata": {},
          "execution_count": 11
        }
      ],
      "source": [
        "model_logreg_l1 = LogisticRegression(\n",
        "    max_iter=1000,\n",
        "    penalty='l1',\n",
        "    random_state=13,\n",
        "    C=0.1,\n",
        "    solver='liblinear'\n",
        ").fit(X_train, y_train)\n",
        "accuracy_score(y_test, model_logreg_l1.predict(X_test))"
      ]
    },
    {
      "cell_type": "markdown",
      "metadata": {
        "id": "vnuVsDBF2XAg"
      },
      "source": [
        "## 6"
      ]
    },
    {
      "cell_type": "markdown",
      "metadata": {
        "id": "YGsVjsYV2XAg"
      },
      "source": [
        "Выведите значения весов новой обученной логистической регрессии и сравните их с весами изначальной логистической регрессии. Что вы наблюдаете?\n",
        "\n",
        "- Веса занулились\n",
        "\n",
        "Найдите L2-норму вектора весов (без учета свободного коэффициента) для полученного классификатора. Как на нее повлияла регуляризация?\n",
        "\n",
        "- Уменьшила её"
      ]
    },
    {
      "cell_type": "code",
      "execution_count": 12,
      "metadata": {
        "id": "lAGjhL2v2XAg",
        "colab": {
          "base_uri": "https://localhost:8080/"
        },
        "outputId": "62ec8692-0550-4431-9c9a-c3c60ae7a5db"
      },
      "outputs": [
        {
          "output_type": "execute_result",
          "data": {
            "text/plain": [
              "0.9158146328958144"
            ]
          },
          "metadata": {},
          "execution_count": 12
        }
      ],
      "source": [
        "np.linalg.norm(model_logreg_l1.coef_)"
      ]
    },
    {
      "cell_type": "markdown",
      "metadata": {
        "id": "8uvOjGQF2XAg"
      },
      "source": [
        "## 7"
      ]
    },
    {
      "cell_type": "markdown",
      "metadata": {
        "id": "qLyiZ5tB2XAg"
      },
      "source": [
        "Построим третью модель - метод опорных векторов (SVM). В `sklearn` этот метод реализован в классе [`sklearn.svm.SVC`](https://scikit-learn.org/stable/modules/generated/sklearn.svm.SVC.html). Мы проходили только линейную версию SVM (где мы рисуем гиперплоскость, разделяющую два класса) - ей соответствует гиперпараметр `kernel='linear'`.\n",
        "\n",
        "Обучите SVM со следующими гиперпараметрами:\n",
        "\n",
        "   - с коэффициентом `C=1`\n",
        "   - с линейным ядром: `kernel='linear'`\n",
        "   - сид: `random_state=13`\n",
        "   - остальные гиперпараметры оставьте равными по умолчанию\n",
        "\n",
        "Посчитайте долю правильных ответов построенного классификатора на тестовой выборке. Отличается ли оно от результатов двух построенных логистических регрессий?\n",
        "\n",
        "- Да, их стало больше"
      ]
    },
    {
      "cell_type": "code",
      "execution_count": 13,
      "metadata": {
        "id": "0j3oNLAs2XAh",
        "colab": {
          "base_uri": "https://localhost:8080/"
        },
        "outputId": "9f31cba9-3d77-474b-ff8b-ee5e626c9344"
      },
      "outputs": [
        {
          "output_type": "execute_result",
          "data": {
            "text/plain": [
              "0.8421052631578947"
            ]
          },
          "metadata": {},
          "execution_count": 13
        }
      ],
      "source": [
        "from sklearn.svm import SVC\n",
        "\n",
        "model_svc = SVC(C=1, kernel='linear', random_state=13).fit(X_train, y_train)\n",
        "accuracy_score(y_test, model_svc.predict(X_test))"
      ]
    },
    {
      "cell_type": "markdown",
      "metadata": {
        "id": "zSzkYqHI2XAh"
      },
      "source": [
        "## 8"
      ]
    },
    {
      "cell_type": "markdown",
      "metadata": {
        "id": "o8k8r1W92XAh"
      },
      "source": [
        "Наконец, проверьте, как полученные классификаторы предсказывают не классы, а вероятности классов. В принципе, не все классификаторы позволяют предсказывать вероятности классов, но логистическая регрессия умеет это делать. Посмотрите на вероятности, которые выдает первая логистическая регрессия (обученный без регуляризации) на тестовой части выборки. В этом вам поможет метод [`predict_proba`](https://scikit-learn.org/stable/modules/generated/sklearn.linear_model.LogisticRegression.html#sklearn.linear_model.LogisticRegression.predict_proba). Результатом его работы будет список размера $\\ell\\times 2$, где $\\ell$ - это число объектов. В каждом столбце списка находятся вероятности соответствующего класса для объектов. Поэтому если вам нужен положительный класс, вас интересует последний столбец.\n",
        "\n",
        "Какое получается значение AUC-ROC?"
      ]
    },
    {
      "cell_type": "code",
      "execution_count": 14,
      "metadata": {
        "id": "s2ShZLkx2XAh",
        "colab": {
          "base_uri": "https://localhost:8080/"
        },
        "outputId": "b9a384a2-ddad-47e0-da83-ea970b89be3f"
      },
      "outputs": [
        {
          "output_type": "execute_result",
          "data": {
            "text/plain": [
              "0.8949964763918252"
            ]
          },
          "metadata": {},
          "execution_count": 14
        }
      ],
      "source": [
        "from sklearn.metrics import roc_auc_score\n",
        "\n",
        "roc_auc_score(y_test, model_logreg.predict_proba(X_test)[:, 1])"
      ]
    },
    {
      "cell_type": "markdown",
      "metadata": {
        "id": "q16TemZn2XAh"
      },
      "source": [
        "## 9"
      ]
    },
    {
      "cell_type": "markdown",
      "metadata": {
        "id": "4UssB17I2XAh"
      },
      "source": [
        "Посчитайте значение AUC-ROC для второй логистической регрессии (которая была обучена с L1-регуляризацией). Отличается ли оно от AUC-ROC первой логистической регрессии?\n",
        "\n",
        "- Да, стало больше"
      ]
    },
    {
      "cell_type": "code",
      "execution_count": 15,
      "metadata": {
        "id": "tH1YlFjs2XAh",
        "colab": {
          "base_uri": "https://localhost:8080/"
        },
        "outputId": "dcf757a8-cb04-4d87-f45a-93c36eb20bc8"
      },
      "outputs": [
        {
          "output_type": "execute_result",
          "data": {
            "text/plain": [
              "0.9020436927413671"
            ]
          },
          "metadata": {},
          "execution_count": 15
        }
      ],
      "source": [
        "roc_auc_score(y_test, model_logreg_l1.predict_proba(X_test)[:, 1])"
      ]
    },
    {
      "cell_type": "markdown",
      "metadata": {
        "id": "4YT6N8QH2XAi"
      },
      "source": [
        "## 10"
      ]
    },
    {
      "cell_type": "markdown",
      "metadata": {
        "id": "toSrocmw2XAi"
      },
      "source": [
        "Наконец, посчитаем значение AUC-ROC для метода опорных векторов. По умолчанию SVM не умеет выдавать вероятности. Однако вспомните, что значение AUC-ROC зависит только от того, как отранжированы объекты - но не от самих значений, выдаваемых классификатором. Поэтому на самом деле AUC-ROC необязательно подсчитывать только для вероятностей - его можно посчитать, даже если классификатор выдает вещественные числа не из интервала $[0, 1]$.\n",
        "\n",
        "В случае SVM мы можем посчитать расстояние от объектов до разделяющей гиперплоскости (со знаком минус, если объект относится к отрицательному классу, и плюс - если к положительному). В `sklearn` это реализовано с помощью метода [`decision_function`](https://scikit-learn.org/stable/modules/generated/sklearn.svm.SVC.html#sklearn.svm.SVC.decision_function). В отличие от метода `predict_proba` в логистической регрессии, данный метод выдает не массив размера $\\ell\\times 2$, а массив из $\\ell$ элементов.\n",
        "\n",
        "Примените метод `decision_function` для уже обученного SVM на тестовой выборке. Посмотрите на то, что выдает этот метод.\n",
        "\n",
        "Посчитайте значение AUC-ROC для полученного результата. Что в итоге в этой задаче сработало лучше - SVM или логистическая регрессия?\n",
        "\n",
        "- SVM сработало чууууууууть-чуть лучше"
      ]
    },
    {
      "cell_type": "code",
      "execution_count": 16,
      "metadata": {
        "id": "f6JcoXAU2XAi",
        "colab": {
          "base_uri": "https://localhost:8080/"
        },
        "outputId": "280b7e4a-a6a1-454e-ba1f-4fea7700f0e2"
      },
      "outputs": [
        {
          "output_type": "execute_result",
          "data": {
            "text/plain": [
              "0.9034531360112755"
            ]
          },
          "metadata": {},
          "execution_count": 16
        }
      ],
      "source": [
        "roc_auc_score(y_test, model_svc.decision_function(X_test))"
      ]
    },
    {
      "cell_type": "markdown",
      "metadata": {
        "id": "Gm4LNuRD2XAi"
      },
      "source": [
        "## 11"
      ]
    },
    {
      "cell_type": "markdown",
      "metadata": {
        "id": "fYFSdGVx2XAi"
      },
      "source": [
        "Сопоставьте признаки в данных со значениями весов обученных моделей (метод `.coef_`). Для лучшей модели посчитайте, какой признак является самым важным для принятия решения (то есть имеет наибольший по модулю коэффициент). Выведите название соответствующего столбца."
      ]
    },
    {
      "cell_type": "code",
      "execution_count": 17,
      "metadata": {
        "id": "7XX0bv7C2XAi",
        "colab": {
          "base_uri": "https://localhost:8080/"
        },
        "outputId": "a24d106a-3b4e-4d7a-b2c4-2823b2956432"
      },
      "outputs": [
        {
          "output_type": "stream",
          "name": "stdout",
          "text": [
            "Logreg: sex\n",
            "Logreg: cp\n",
            "Logreg: thal\n"
          ]
        }
      ],
      "source": [
        "print(f\"Logreg: {data.columns[np.argmax(abs(model_logreg.coef_))]}\")\n",
        "print(f\"Logreg: {data.columns[np.argmax(abs(model_logreg_l1.coef_))]}\")\n",
        "print(f\"Logreg: {data.columns[np.argmax(abs(model_svc.coef_))]}\")"
      ]
    }
  ],
  "metadata": {
    "kernelspec": {
      "display_name": "Python 3",
      "language": "python",
      "name": "python3"
    },
    "language_info": {
      "codemirror_mode": {
        "name": "ipython",
        "version": 3
      },
      "file_extension": ".py",
      "mimetype": "text/x-python",
      "name": "python",
      "nbconvert_exporter": "python",
      "pygments_lexer": "ipython3",
      "version": "3.7.3"
    },
    "colab": {
      "provenance": [],
      "include_colab_link": true
    }
  },
  "nbformat": 4,
  "nbformat_minor": 0
}